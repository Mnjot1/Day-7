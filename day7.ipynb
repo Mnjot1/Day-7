{
 "cells": [
  {
   "cell_type": "markdown",
   "id": "03ad13e7-8cc8-4911-abc9-b90610d398bf",
   "metadata": {},
   "source": [
    "## Lambda function"
   ]
  },
  {
   "cell_type": "code",
   "execution_count": 1,
   "id": "52a3b1ff-5c0a-4d15-9c72-17402478db94",
   "metadata": {},
   "outputs": [],
   "source": [
    "def test(a,b):\n",
    "    c=a**b\n",
    "    return c"
   ]
  },
  {
   "cell_type": "code",
   "execution_count": 15,
   "id": "4a44ba73-2368-47e2-a38d-1a7fc00d7168",
   "metadata": {},
   "outputs": [
    {
     "data": {
      "text/plain": [
       "6561"
      ]
     },
     "execution_count": 15,
     "metadata": {},
     "output_type": "execute_result"
    }
   ],
   "source": [
    "test(9,4)"
   ]
  },
  {
   "cell_type": "code",
   "execution_count": 5,
   "id": "d9efedbc-3724-4515-a51c-a4a6da10c871",
   "metadata": {},
   "outputs": [],
   "source": [
    "## now we can do this in another way also know as lambda function \n",
    "## which is a anymous function, function without name "
   ]
  },
  {
   "cell_type": "code",
   "execution_count": 11,
   "id": "55b37153-20c1-4805-99a5-42dbc671a74d",
   "metadata": {},
   "outputs": [
    {
     "data": {
      "text/plain": [
       "<function __main__.<lambda>(n, p)>"
      ]
     },
     "execution_count": 11,
     "metadata": {},
     "output_type": "execute_result"
    }
   ],
   "source": [
    "a= lambda n,p: n** p\n"
   ]
  },
  {
   "cell_type": "code",
   "execution_count": 18,
   "id": "6f3fdf2f-f97f-4105-8cbb-0cca604debe7",
   "metadata": {},
   "outputs": [
    {
     "data": {
      "text/plain": [
       "9"
      ]
     },
     "execution_count": 18,
     "metadata": {},
     "output_type": "execute_result"
    }
   ],
   "source": [
    "a(3,2)"
   ]
  },
  {
   "cell_type": "code",
   "execution_count": 19,
   "id": "0b433f85-144c-410d-949e-99647b63c178",
   "metadata": {},
   "outputs": [],
   "source": [
    "add= lambda x,y: x+y   # sort hand function"
   ]
  },
  {
   "cell_type": "code",
   "execution_count": 20,
   "id": "058594f8-8573-45b4-84cd-6cd965f9e736",
   "metadata": {},
   "outputs": [
    {
     "data": {
      "text/plain": [
       "11"
      ]
     },
     "execution_count": 20,
     "metadata": {},
     "output_type": "execute_result"
    }
   ],
   "source": [
    "add(5,6)"
   ]
  },
  {
   "cell_type": "code",
   "execution_count": 26,
   "id": "9b8d5485-e658-4e09-a184-bfcef300bf18",
   "metadata": {},
   "outputs": [],
   "source": [
    "# c to f \n",
    "c_to_f= lambda c: (9/5)*c+32"
   ]
  },
  {
   "cell_type": "code",
   "execution_count": 28,
   "id": "8b5fdff2-a9cd-4ce0-8bdf-79a59d850613",
   "metadata": {},
   "outputs": [
    {
     "data": {
      "text/plain": [
       "94.1"
      ]
     },
     "execution_count": 28,
     "metadata": {},
     "output_type": "execute_result"
    }
   ],
   "source": [
    "c_to_f(34.5)"
   ]
  },
  {
   "cell_type": "code",
   "execution_count": 29,
   "id": "b19f97e2-da3f-4d7f-ad7d-3c636a1c380f",
   "metadata": {},
   "outputs": [],
   "source": [
    "## create a lambda function to find out which number is maximum:"
   ]
  },
  {
   "cell_type": "code",
   "execution_count": 31,
   "id": "87ad17f1-e19f-4740-ac15-8784efa34f51",
   "metadata": {},
   "outputs": [],
   "source": [
    "max_two= lambda a,b: a if a>b else b"
   ]
  },
  {
   "cell_type": "code",
   "execution_count": 32,
   "id": "49ef63f6-c003-419e-b60c-5ddd7a935563",
   "metadata": {},
   "outputs": [
    {
     "data": {
      "text/plain": [
       "6"
      ]
     },
     "execution_count": 32,
     "metadata": {},
     "output_type": "execute_result"
    }
   ],
   "source": [
    "max_two(5,6)"
   ]
  },
  {
   "cell_type": "code",
   "execution_count": 33,
   "id": "6451bae5-2a30-41dc-a57e-00ea30049731",
   "metadata": {},
   "outputs": [
    {
     "data": {
      "text/plain": [
       "6"
      ]
     },
     "execution_count": 33,
     "metadata": {},
     "output_type": "execute_result"
    }
   ],
   "source": [
    "max_two(6,4)"
   ]
  },
  {
   "cell_type": "code",
   "execution_count": 39,
   "id": "2fdf62a0-edb7-46f9-9af6-569a4219a3ed",
   "metadata": {},
   "outputs": [],
   "source": [
    "## find lenght of string using lambda function\n",
    "s=\"Pw skills\"\n",
    "number=0\n",
    "len_string= lambda a: len(a)"
   ]
  },
  {
   "cell_type": "code",
   "execution_count": 40,
   "id": "62aca996-081a-41b2-920c-c1d8f63f876c",
   "metadata": {},
   "outputs": [
    {
     "data": {
      "text/plain": [
       "9"
      ]
     },
     "execution_count": 40,
     "metadata": {},
     "output_type": "execute_result"
    }
   ],
   "source": [
    "len_string(s)"
   ]
  },
  {
   "cell_type": "markdown",
   "id": "8a6453a5-255c-4469-9f07-23fb2fb850d5",
   "metadata": {},
   "source": [
    "## Map, reduce and filter function in python"
   ]
  },
  {
   "cell_type": "markdown",
   "id": "d952f552-b992-4c98-800b-8a8344ff0729",
   "metadata": {},
   "source": [
    "## Map"
   ]
  },
  {
   "cell_type": "code",
   "execution_count": 15,
   "id": "b22d8245-f230-45e9-bbfb-57f1bb750689",
   "metadata": {},
   "outputs": [],
   "source": [
    "l=[1,2,3,45,5]"
   ]
  },
  {
   "cell_type": "code",
   "execution_count": 16,
   "id": "f0b146f6-7d44-4380-adbd-cd1615a7809f",
   "metadata": {},
   "outputs": [],
   "source": [
    "## calculate square of given list\n",
    "\n",
    "def test1(a):\n",
    "    l1=[]\n",
    "    for i in a:\n",
    "        l1.append(i**2)\n",
    "    return l1\n",
    "        "
   ]
  },
  {
   "cell_type": "code",
   "execution_count": 17,
   "id": "96f825c0-0af6-4453-9a89-2aae4c6e7e8e",
   "metadata": {},
   "outputs": [
    {
     "data": {
      "text/plain": [
       "[1, 4, 9, 2025, 25]"
      ]
     },
     "execution_count": 17,
     "metadata": {},
     "output_type": "execute_result"
    }
   ],
   "source": [
    "test1(l)"
   ]
  },
  {
   "cell_type": "code",
   "execution_count": 2,
   "id": "83a39725-ea0c-4ea6-9554-9b7c4cc07408",
   "metadata": {},
   "outputs": [],
   "source": [
    "# what if i tell you that you can do this in one single line"
   ]
  },
  {
   "cell_type": "code",
   "execution_count": 18,
   "id": "4bdb3cd3-aa08-43fc-892b-7ca4fe22cd34",
   "metadata": {},
   "outputs": [],
   "source": [
    "def sq(a):\n",
    "    return a**2"
   ]
  },
  {
   "cell_type": "code",
   "execution_count": 19,
   "id": "2cc896b3-de34-47e1-9bef-b6543c1f18af",
   "metadata": {},
   "outputs": [
    {
     "data": {
      "text/plain": [
       "<map at 0x7fbcbc54f6d0>"
      ]
     },
     "execution_count": 19,
     "metadata": {},
     "output_type": "execute_result"
    }
   ],
   "source": [
    "map(sq,l)"
   ]
  },
  {
   "cell_type": "code",
   "execution_count": 20,
   "id": "a7acf58b-f346-41c4-b877-bf1cd890447a",
   "metadata": {},
   "outputs": [
    {
     "data": {
      "text/plain": [
       "(1, 4, 9, 2025, 25)"
      ]
     },
     "execution_count": 20,
     "metadata": {},
     "output_type": "execute_result"
    }
   ],
   "source": [
    "tuple(map(sq,l))"
   ]
  },
  {
   "cell_type": "code",
   "execution_count": 21,
   "id": "427e55fd-42a5-49ab-a6fa-69ca7d1501d3",
   "metadata": {},
   "outputs": [
    {
     "data": {
      "text/plain": [
       "[1, 4, 9, 2025, 25]"
      ]
     },
     "execution_count": 21,
     "metadata": {},
     "output_type": "execute_result"
    }
   ],
   "source": [
    "list(map(sq,l))"
   ]
  },
  {
   "cell_type": "code",
   "execution_count": 22,
   "id": "495270dd-a479-4e05-a0af-1a821654efa2",
   "metadata": {},
   "outputs": [
    {
     "data": {
      "text/plain": [
       "{1, 4, 9, 25, 2025}"
      ]
     },
     "execution_count": 22,
     "metadata": {},
     "output_type": "execute_result"
    }
   ],
   "source": [
    "set(map(sq,l))"
   ]
  },
  {
   "cell_type": "code",
   "execution_count": 23,
   "id": "e2626f8c-6d8c-4f51-980d-1544e82c5449",
   "metadata": {},
   "outputs": [
    {
     "data": {
      "text/plain": [
       "[1, 4, 9, 2025, 25]"
      ]
     },
     "execution_count": 23,
     "metadata": {},
     "output_type": "execute_result"
    }
   ],
   "source": [
    "# even you can pass it with lamba\n",
    "list(map(lambda x: x**2,l))"
   ]
  },
  {
   "cell_type": "code",
   "execution_count": 24,
   "id": "6e81d85b-0059-4409-a296-850daf86c003",
   "metadata": {},
   "outputs": [
    {
     "data": {
      "text/plain": [
       "[11, 12, 13, 55, 15]"
      ]
     },
     "execution_count": 24,
     "metadata": {},
     "output_type": "execute_result"
    }
   ],
   "source": [
    "## adding +10 in every element of list using mapper and lambda:\n",
    "list(map(lambda x: x+10,l))"
   ]
  },
  {
   "cell_type": "code",
   "execution_count": 25,
   "id": "9a173b56-b301-4d39-ab12-9abb1fc74953",
   "metadata": {},
   "outputs": [
    {
     "data": {
      "text/plain": [
       "['1', '2', '3', '45', '5']"
      ]
     },
     "execution_count": 25,
     "metadata": {},
     "output_type": "execute_result"
    }
   ],
   "source": [
    "## convert each and every element in string\n",
    "list(map(lambda x: str(x),l))"
   ]
  },
  {
   "cell_type": "code",
   "execution_count": 28,
   "id": "8cc7d2da-14e1-4b62-ac30-dd26c696cdca",
   "metadata": {},
   "outputs": [
    {
     "data": {
      "text/plain": [
       "['1', '2', '3', '45', '5']"
      ]
     },
     "execution_count": 28,
     "metadata": {},
     "output_type": "execute_result"
    }
   ],
   "source": [
    "list(map(lambda x: str(x),l))"
   ]
  },
  {
   "cell_type": "code",
   "execution_count": 29,
   "id": "d6cdf965-9b77-4ce4-9b4a-2e5d7aef550f",
   "metadata": {},
   "outputs": [
    {
     "data": {
      "text/plain": [
       "[1, 2, 3, 45, 5]"
      ]
     },
     "execution_count": 29,
     "metadata": {},
     "output_type": "execute_result"
    }
   ],
   "source": [
    "list(map(lambda x: int(x),l))"
   ]
  },
  {
   "cell_type": "code",
   "execution_count": 30,
   "id": "dfc86f6d-30b4-45c8-bcb7-0cfbd2aab39a",
   "metadata": {},
   "outputs": [],
   "source": [
    "# there is 2 list given try to add them :\n",
    "l1=[1,2,3,4,5]\n",
    "l2=[6,7,8,9,10]"
   ]
  },
  {
   "cell_type": "code",
   "execution_count": 64,
   "id": "14a29837-ca65-442a-b38f-301b13484583",
   "metadata": {},
   "outputs": [],
   "source": [
    "## adding them using mapper function\n",
    "def test1(a,b):\n",
    "      return a+b\n"
   ]
  },
  {
   "cell_type": "code",
   "execution_count": 65,
   "id": "9cecc510-bf2b-47fb-8489-07878a7a39fc",
   "metadata": {},
   "outputs": [
    {
     "data": {
      "text/plain": [
       "{7, 9, 11, 13, 15}"
      ]
     },
     "execution_count": 65,
     "metadata": {},
     "output_type": "execute_result"
    }
   ],
   "source": [
    "set(map(test1,l1,l2))"
   ]
  },
  {
   "cell_type": "code",
   "execution_count": 66,
   "id": "0984b4c4-97aa-4b86-a92c-99f48c5afdef",
   "metadata": {},
   "outputs": [],
   "source": [
    "## use same map function without using upper function instead of that use lambda"
   ]
  },
  {
   "cell_type": "code",
   "execution_count": 67,
   "id": "025468c0-d8d7-4acf-8459-390ce5a85aa6",
   "metadata": {},
   "outputs": [
    {
     "data": {
      "text/plain": [
       "(7, 9, 11, 13, 15)"
      ]
     },
     "execution_count": 67,
     "metadata": {},
     "output_type": "execute_result"
    }
   ],
   "source": [
    "tuple(map(lambda x,y: x+y,l1,l2))"
   ]
  },
  {
   "cell_type": "code",
   "execution_count": 69,
   "id": "0cdf44df-37fb-4c21-ad6d-3058ce9d2a06",
   "metadata": {},
   "outputs": [],
   "source": [
    "# or you can try this way also.\n",
    "f=lambda x,y: x+y"
   ]
  },
  {
   "cell_type": "code",
   "execution_count": 72,
   "id": "84cad0f0-2011-4e98-b21a-582c7a9f1f53",
   "metadata": {},
   "outputs": [
    {
     "data": {
      "text/plain": [
       "{7, 9, 11, 13, 15}"
      ]
     },
     "execution_count": 72,
     "metadata": {},
     "output_type": "execute_result"
    }
   ],
   "source": [
    " set(map(f,l1,l2))  # we're done.."
   ]
  },
  {
   "cell_type": "code",
   "execution_count": 73,
   "id": "f7ebc94f-3124-4044-a1b7-8b891b9927a9",
   "metadata": {},
   "outputs": [],
   "source": [
    "## seprate the string and return in uppercase using map with lambda"
   ]
  },
  {
   "cell_type": "code",
   "execution_count": 105,
   "id": "b3ea73ce-22e9-4c90-832a-991891e85bd4",
   "metadata": {},
   "outputs": [
    {
     "data": {
      "text/plain": [
       "'pw skills'"
      ]
     },
     "execution_count": 105,
     "metadata": {},
     "output_type": "execute_result"
    }
   ],
   "source": [
    "string=\"pw skills\"\n",
    "string"
   ]
  },
  {
   "cell_type": "code",
   "execution_count": 106,
   "id": "71c479de-4fb0-4e62-bb4f-4b9e029836b6",
   "metadata": {},
   "outputs": [],
   "source": [
    "def teststr(a):\n",
    "    return a.upper()"
   ]
  },
  {
   "cell_type": "code",
   "execution_count": 107,
   "id": "41ce40bc-6728-4942-831c-f4b01a0bcbfe",
   "metadata": {},
   "outputs": [
    {
     "data": {
      "text/plain": [
       "<map at 0x7fbcbc7262f0>"
      ]
     },
     "execution_count": 107,
     "metadata": {},
     "output_type": "execute_result"
    }
   ],
   "source": [
    "map(teststr,string)"
   ]
  },
  {
   "cell_type": "code",
   "execution_count": 108,
   "id": "b929f1a9-d94e-4882-bdbb-6bd63967f170",
   "metadata": {},
   "outputs": [
    {
     "data": {
      "text/plain": [
       "('P', 'W', ' ', 'S', 'K', 'I', 'L', 'L', 'S')"
      ]
     },
     "execution_count": 108,
     "metadata": {},
     "output_type": "execute_result"
    }
   ],
   "source": [
    "tuple(map(lambda x: x.upper(),string))"
   ]
  },
  {
   "cell_type": "markdown",
   "id": "fa6c3aed-4d91-4692-923c-6f380a48ba8c",
   "metadata": {},
   "source": [
    "##  reduce()"
   ]
  },
  {
   "cell_type": "code",
   "execution_count": 110,
   "id": "a37f1330-a590-4451-bdac-b52c7e903738",
   "metadata": {},
   "outputs": [],
   "source": [
    "from functools import reduce\n",
    "l=[1,2,3,4,5,4] ## do summation of it by using sum[] and for loop\n",
    "\n"
   ]
  },
  {
   "cell_type": "code",
   "execution_count": 131,
   "id": "5fafdc44-49d2-4ba7-a4c7-c75cbda413e1",
   "metadata": {},
   "outputs": [],
   "source": [
    "# reduce function reduce or collapse entire list or iterbale object"
   ]
  },
  {
   "cell_type": "code",
   "execution_count": 132,
   "id": "764f919b-1255-45a0-b319-bfc3864598bc",
   "metadata": {},
   "outputs": [
    {
     "data": {
      "text/plain": [
       "19"
      ]
     },
     "execution_count": 132,
     "metadata": {},
     "output_type": "execute_result"
    }
   ],
   "source": [
    "reduce(lambda x,y:x+y,l)  ## how this works explain in notebook first it take x=1 + y=2, now x=3 and next iterable y=3 and so on."
   ]
  },
  {
   "cell_type": "code",
   "execution_count": 111,
   "id": "34a45ab3-11b5-4196-b1b2-966d39fb2b99",
   "metadata": {},
   "outputs": [],
   "source": [
    "l=[1,2,3,4,5,4] ## do summation of it by using sum[] and for loop"
   ]
  },
  {
   "cell_type": "code",
   "execution_count": 130,
   "id": "23573253-9a27-488d-96ca-a1a4917fc5c0",
   "metadata": {},
   "outputs": [
    {
     "name": "stdout",
     "output_type": "stream",
     "text": [
      "19\n"
     ]
    }
   ],
   "source": [
    "number=0\n",
    "for i in l: \n",
    "    number+=i\n",
    "\n",
    "print(number)\n",
    "## done nice     \n"
   ]
  },
  {
   "cell_type": "code",
   "execution_count": 133,
   "id": "fd65d114-082f-4b92-8a57-a5dd0a0ae9f1",
   "metadata": {},
   "outputs": [],
   "source": [
    "# or \n",
    "def reducel(x,y):\n",
    "    \n",
    "     return x+y"
   ]
  },
  {
   "cell_type": "code",
   "execution_count": 134,
   "id": "cf7a5505-d548-4a02-bf0d-d006640a5944",
   "metadata": {},
   "outputs": [
    {
     "data": {
      "text/plain": [
       "19"
      ]
     },
     "execution_count": 134,
     "metadata": {},
     "output_type": "execute_result"
    }
   ],
   "source": [
    "reduce(reducel,l) ## it works like this also "
   ]
  },
  {
   "cell_type": "code",
   "execution_count": 135,
   "id": "170acc4f-53d0-4658-905d-a98a6951dbde",
   "metadata": {},
   "outputs": [],
   "source": [
    "l1=lambda x,y: x+y # this also works "
   ]
  },
  {
   "cell_type": "code",
   "execution_count": 136,
   "id": "76a1212c-4101-4554-94bd-e189eb40161a",
   "metadata": {},
   "outputs": [
    {
     "data": {
      "text/plain": [
       "19"
      ]
     },
     "execution_count": 136,
     "metadata": {},
     "output_type": "execute_result"
    }
   ],
   "source": [
    "reduce(l1,l)"
   ]
  },
  {
   "cell_type": "code",
   "execution_count": 144,
   "id": "27d7514b-0333-4314-b968-42f46b489ba2",
   "metadata": {},
   "outputs": [
    {
     "data": {
      "text/plain": [
       "[1, 2, 3, 4, 5, 4, 1]"
      ]
     },
     "execution_count": 144,
     "metadata": {},
     "output_type": "execute_result"
    }
   ],
   "source": [
    "l"
   ]
  },
  {
   "cell_type": "code",
   "execution_count": 149,
   "id": "8381b4c4-6141-4101-85e2-78a415b83fa7",
   "metadata": {},
   "outputs": [],
   "source": [
    "l2=[1,2,3,4,5,6,7,8]"
   ]
  },
  {
   "cell_type": "code",
   "execution_count": 150,
   "id": "c318dd89-a1c4-482d-9bdb-bd7d5a437017",
   "metadata": {},
   "outputs": [
    {
     "data": {
      "text/plain": [
       "[1, 2, 3, 4, 5, 6, 7, 8]"
      ]
     },
     "execution_count": 150,
     "metadata": {},
     "output_type": "execute_result"
    }
   ],
   "source": [
    "l2"
   ]
  },
  {
   "cell_type": "code",
   "execution_count": 153,
   "id": "9f377a3b-2d21-49b8-a95c-a599c1d57bf4",
   "metadata": {},
   "outputs": [
    {
     "ename": "TypeError",
     "evalue": "<lambda>() missing 1 required positional argument: 'z'",
     "output_type": "error",
     "traceback": [
      "\u001b[0;31m---------------------------------------------------------------------------\u001b[0m",
      "\u001b[0;31mTypeError\u001b[0m                                 Traceback (most recent call last)",
      "Cell \u001b[0;32mIn[153], line 2\u001b[0m\n\u001b[1;32m      1\u001b[0m \u001b[38;5;66;03m# take three parameters now:\u001b[39;00m\n\u001b[0;32m----> 2\u001b[0m \u001b[43mreduce\u001b[49m\u001b[43m(\u001b[49m\u001b[38;5;28;43;01mlambda\u001b[39;49;00m\u001b[43m \u001b[49m\u001b[43mx\u001b[49m\u001b[43m,\u001b[49m\u001b[43my\u001b[49m\u001b[43m,\u001b[49m\u001b[43mz\u001b[49m\u001b[43m:\u001b[49m\u001b[43mx\u001b[49m\u001b[38;5;241;43m+\u001b[39;49m\u001b[43my\u001b[49m\u001b[38;5;241;43m+\u001b[39;49m\u001b[43mz\u001b[49m\u001b[43m,\u001b[49m\u001b[43ml\u001b[49m\u001b[43m)\u001b[49m \n\u001b[1;32m      3\u001b[0m \u001b[38;5;66;03m## now why this is not working\u001b[39;00m\n\u001b[1;32m      4\u001b[0m \u001b[38;5;66;03m## answer \u001b[39;00m\n\u001b[1;32m      5\u001b[0m \u001b[38;5;66;03m# 1isx 2isy 3isz now result of this is 6x moving forward 4isy and 5isz result of all this 15isx\u001b[39;00m\n\u001b[1;32m      6\u001b[0m \u001b[38;5;66;03m## now main, part 15 is x and last element 4isy so, there is no argument for z that's the reason and\u001b[39;00m\n\u001b[1;32m      7\u001b[0m \u001b[38;5;66;03m# it is very good idea to point out only 2 pair more than 2 will collapse.\u001b[39;00m\n",
      "\u001b[0;31mTypeError\u001b[0m: <lambda>() missing 1 required positional argument: 'z'"
     ]
    }
   ],
   "source": [
    "# take three parameters now:\n",
    "reduce(lambda x,y,z:x+y+z,l) \n",
    "## now why this is not working\n",
    "## answer \n",
    "# 1isx 2isy 3isz now result of this is 6x moving forward 4isy and 5isz result of all this 15isx\n",
    "## now main, part 15 is x and last element 4isy so, there is no argument for z that's the reason and\n",
    "# it is very good idea to point out only 2 pair more than 2 will collapse."
   ]
  },
  {
   "cell_type": "code",
   "execution_count": 159,
   "id": "c8d6d6d1-aef4-4716-8530-a509935e08a0",
   "metadata": {},
   "outputs": [
    {
     "data": {
      "text/plain": [
       "480"
      ]
     },
     "execution_count": 159,
     "metadata": {},
     "output_type": "execute_result"
    }
   ],
   "source": [
    "reduce(lambda x,y:x*y,l) # now it will also "
   ]
  },
  {
   "cell_type": "code",
   "execution_count": 155,
   "id": "5c774140-b1f8-4920-9702-5fa5070d88d6",
   "metadata": {},
   "outputs": [],
   "source": [
    "## now suppose if we try to pass empty list "
   ]
  },
  {
   "cell_type": "code",
   "execution_count": 156,
   "id": "af5b72f2-8214-4e42-bc2a-97a983783810",
   "metadata": {},
   "outputs": [
    {
     "ename": "TypeError",
     "evalue": "reduce() of empty iterable with no initial value",
     "output_type": "error",
     "traceback": [
      "\u001b[0;31m---------------------------------------------------------------------------\u001b[0m",
      "\u001b[0;31mTypeError\u001b[0m                                 Traceback (most recent call last)",
      "Cell \u001b[0;32mIn[156], line 1\u001b[0m\n\u001b[0;32m----> 1\u001b[0m \u001b[43mreduce\u001b[49m\u001b[43m(\u001b[49m\u001b[38;5;28;43;01mlambda\u001b[39;49;00m\u001b[43m \u001b[49m\u001b[43mx\u001b[49m\u001b[43m,\u001b[49m\u001b[43my\u001b[49m\u001b[43m:\u001b[49m\u001b[43mx\u001b[49m\u001b[38;5;241;43m+\u001b[39;49m\u001b[43my\u001b[49m\u001b[43m,\u001b[49m\u001b[43m[\u001b[49m\u001b[43m]\u001b[49m\u001b[43m)\u001b[49m\n",
      "\u001b[0;31mTypeError\u001b[0m: reduce() of empty iterable with no initial value"
     ]
    }
   ],
   "source": [
    "reduce(lambda x,y:x+y,[]) # no it will not work"
   ]
  },
  {
   "cell_type": "code",
   "execution_count": 158,
   "id": "e9d8ae8b-3965-46ce-8c66-c9970136b94a",
   "metadata": {},
   "outputs": [
    {
     "data": {
      "text/plain": [
       "1"
      ]
     },
     "execution_count": 158,
     "metadata": {},
     "output_type": "execute_result"
    }
   ],
   "source": [
    "## now this is expecntional case of reduce function if we are passing one element:\n",
    "\n",
    "reduce(lambda x,y:x*y,[1])\n",
    "## now you are going to ask where is y but this is expectional case "
   ]
  },
  {
   "cell_type": "code",
   "execution_count": 162,
   "id": "90b63133-1bc8-4931-8321-1110224607c9",
   "metadata": {},
   "outputs": [
    {
     "data": {
      "text/plain": [
       "5"
      ]
     },
     "execution_count": 162,
     "metadata": {},
     "output_type": "execute_result"
    }
   ],
   "source": [
    "reduce(lambda x,y: x if x>y else y,l)"
   ]
  },
  {
   "cell_type": "markdown",
   "id": "f552e6c4-0237-4439-af31-ac5b9c52d583",
   "metadata": {},
   "source": [
    "# Filtre function"
   ]
  },
  {
   "cell_type": "code",
   "execution_count": 163,
   "id": "f857fb45-41f2-48cc-9b13-88f994d0fb38",
   "metadata": {},
   "outputs": [],
   "source": [
    "# filtre(): filtre through all iterate elemets"
   ]
  },
  {
   "cell_type": "code",
   "execution_count": 169,
   "id": "bc923f4d-adfc-46c1-a986-d2fd3afa1970",
   "metadata": {},
   "outputs": [
    {
     "data": {
      "text/plain": [
       "(2, 4, 4)"
      ]
     },
     "execution_count": 169,
     "metadata": {},
     "output_type": "execute_result"
    }
   ],
   "source": [
    "tuple(filter(lambda x: x%2==0,l)) ## nice"
   ]
  },
  {
   "cell_type": "code",
   "execution_count": 167,
   "id": "e3c4ceb7-a953-4b17-9603-7589abb0c917",
   "metadata": {},
   "outputs": [],
   "source": [
    "## filter means it will filtre out automatically wihout using the if and else conditon"
   ]
  },
  {
   "cell_type": "code",
   "execution_count": 170,
   "id": "5359d32f-77d2-4577-b41e-fa0534453db0",
   "metadata": {},
   "outputs": [],
   "source": [
    "## you have to call it with data squence like mapping unlike the reduce function which is called by\n",
    "# from functools import reduce"
   ]
  },
  {
   "cell_type": "code",
   "execution_count": 171,
   "id": "f8edb1ff-5150-461f-a4f0-e446cb3ba6a3",
   "metadata": {},
   "outputs": [
    {
     "data": {
      "text/plain": [
       "(1, 3, 5, 1)"
      ]
     },
     "execution_count": 171,
     "metadata": {},
     "output_type": "execute_result"
    }
   ],
   "source": [
    "tuple(filter(lambda x: x%2!=0,l)) ## nice"
   ]
  },
  {
   "cell_type": "code",
   "execution_count": 172,
   "id": "0a5e3bd3-b673-4446-a3ec-8fe94d002c15",
   "metadata": {},
   "outputs": [],
   "source": [
    "l1=[-3,4,-6,4,4,-2,58]"
   ]
  },
  {
   "cell_type": "code",
   "execution_count": 175,
   "id": "5b472e22-6201-4f7c-b2c0-48a38473738b",
   "metadata": {},
   "outputs": [
    {
     "data": {
      "text/plain": [
       "(-3, -6, -2)"
      ]
     },
     "execution_count": 175,
     "metadata": {},
     "output_type": "execute_result"
    }
   ],
   "source": [
    "tuple(filter(lambda x: x<0,l1))  # - neg number"
   ]
  },
  {
   "cell_type": "code",
   "execution_count": 176,
   "id": "6729a4b9-f352-4be5-a172-2d400fc24dc8",
   "metadata": {},
   "outputs": [
    {
     "data": {
      "text/plain": [
       "(4, 4, 4, 58)"
      ]
     },
     "execution_count": 176,
     "metadata": {},
     "output_type": "execute_result"
    }
   ],
   "source": [
    "tuple(filter(lambda x: x>0,l1))"
   ]
  },
  {
   "cell_type": "code",
   "execution_count": 177,
   "id": "44a0add9-5557-415e-8199-4a88b35d70b6",
   "metadata": {},
   "outputs": [],
   "source": [
    "l2=[\"sudh\",\"pwskills\",\"kumar\",\"banglore\",\"krish\"]"
   ]
  },
  {
   "cell_type": "code",
   "execution_count": 179,
   "id": "39333a57-00b9-4176-bbac-d567ef28098d",
   "metadata": {},
   "outputs": [
    {
     "ename": "AttributeError",
     "evalue": "'str' object has no attribute 'len'",
     "output_type": "error",
     "traceback": [
      "\u001b[0;31m---------------------------------------------------------------------------\u001b[0m",
      "\u001b[0;31mAttributeError\u001b[0m                            Traceback (most recent call last)",
      "Cell \u001b[0;32mIn[179], line 1\u001b[0m\n\u001b[0;32m----> 1\u001b[0m \u001b[38;5;28;43mtuple\u001b[39;49m\u001b[43m(\u001b[49m\u001b[38;5;28;43mfilter\u001b[39;49m\u001b[43m(\u001b[49m\u001b[38;5;28;43;01mlambda\u001b[39;49;00m\u001b[43m \u001b[49m\u001b[43mx\u001b[49m\u001b[43m:\u001b[49m\u001b[43m \u001b[49m\u001b[43mx\u001b[49m\u001b[38;5;241;43m.\u001b[39;49m\u001b[43mlen\u001b[49m\u001b[43m(\u001b[49m\u001b[43m)\u001b[49m\u001b[38;5;241;43m<\u001b[39;49m\u001b[38;5;241;43m6\u001b[39;49m\u001b[43m,\u001b[49m\u001b[43ml2\u001b[49m\u001b[43m)\u001b[49m\u001b[43m)\u001b[49m\n",
      "Cell \u001b[0;32mIn[179], line 1\u001b[0m, in \u001b[0;36m<lambda>\u001b[0;34m(x)\u001b[0m\n\u001b[0;32m----> 1\u001b[0m \u001b[38;5;28mtuple\u001b[39m(\u001b[38;5;28mfilter\u001b[39m(\u001b[38;5;28;01mlambda\u001b[39;00m x: \u001b[43mx\u001b[49m\u001b[38;5;241;43m.\u001b[39;49m\u001b[43mlen\u001b[49m()\u001b[38;5;241m<\u001b[39m\u001b[38;5;241m6\u001b[39m,l2))\n",
      "\u001b[0;31mAttributeError\u001b[0m: 'str' object has no attribute 'len'"
     ]
    }
   ],
   "source": [
    "tuple(filter(lambda x: x.len()<6,l2))"
   ]
  },
  {
   "cell_type": "code",
   "execution_count": null,
   "id": "6d1f453e-56ba-4911-8444-fdc551f9e6f9",
   "metadata": {},
   "outputs": [],
   "source": []
  }
 ],
 "metadata": {
  "kernelspec": {
   "display_name": "Python 3 (ipykernel)",
   "language": "python",
   "name": "python3"
  },
  "language_info": {
   "codemirror_mode": {
    "name": "ipython",
    "version": 3
   },
   "file_extension": ".py",
   "mimetype": "text/x-python",
   "name": "python",
   "nbconvert_exporter": "python",
   "pygments_lexer": "ipython3",
   "version": "3.10.8"
  }
 },
 "nbformat": 4,
 "nbformat_minor": 5
}
